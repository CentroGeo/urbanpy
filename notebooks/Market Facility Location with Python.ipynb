{
   "cells":[
      {
         "cell_type":"markdown",
         "metadata":{

         },
         "source":[
            "# Facility Location for temporal markets using PuLP and UrbanPy"
         ]
      },
      {
         "cell_type":"markdown",
         "metadata":{

         },
         "source":[
            "### General imports"
         ]
      },
      {
         "cell_type":"code",
         "execution_count":null,
         "metadata":{

         },
         "outputs":[

         ],
         "source":[
            "import sys\n",
            "sys.path.append('..')\n",
            "import urbanpy as up\n",
            "\n",
            "import pandas as pd\n",
            "import geopandas as gpd\n",
            "import shapely\n",
            "import numpy as np\n",
            "import re\n",
            "from pulp import *"
         ]
      },
      {
         "cell_type":"markdown",
         "metadata":{

         },
         "source":[
            "### Data preparation"
         ]
      },
      {
         "cell_type":"markdown",
         "metadata":{

         },
         "source":[
            "First, we need our set of possible facilities to activate. To construct it we will\n",
            "\n",
            "* Download a polygon from a Lima district\n",
            "* Get its bounds\n",
            "* Download data from possible parks and pitches"
         ]
      },
      {
         "cell_type":"code",
         "execution_count":null,
         "metadata":{

         },
         "outputs":[

         ],
         "source":[
            "sjl = up.download.nominatim_osm('San Juan de Lurigancho, Lima')\n",
            "sjl.crs = 'EPSG:4326'"
         ]
      },
      {
         "cell_type":"markdown",
         "metadata":{

         },
         "source":[
            "Now we are going to create a custom query for the overpass api to download parks an pitches within the district polygon. You can try your own cutom querys [here](https://overpass-turbo.eu/)."
         ]
      },
      {
         "cell_type":"code",
         "execution_count":null,
         "metadata":{

         },
         "outputs":[

         ],
         "source":[
            "query = \"\"\"\n",
            "[timeout:120][out:json][bbox];\n",
            "(\n",
            "  way[\"leisure\"~\"park|pitch\"];\n",
            ");\n",
            "out body geom;\n",
            "\"\"\"\n",
            "response = up.download.overpass_pois(sjl.total_bounds, custom_query=query)"
         ]
      },
      {
         "cell_type":"markdown",
         "metadata":{

         },
         "source":[
            "Now, we are going to create a GeoDataFrame using the query results"
         ]
      },
      {
         "cell_type":"code",
         "execution_count":null,
         "metadata":{

         },
         "outputs":[

         ],
         "source":[
            "data = response.json() # get json data\n",
            "parks_pitchs_df = pd.DataFrame.from_dict(data['elements']) # transform data to dataframe"
         ]
      },
      {
         "cell_type":"code",
         "execution_count":null,
         "metadata":{

         },
         "outputs":[

         ],
         "source":[
            "# shell_from_geometry is a helper function to create the input for a Polygon using the overpass geometry\n",
            "parks_pitchs_df['shell'] = parks_pitchs_df['geometry'].apply(up.utils.shell_from_geometry)"
         ]
      },
      {
         "cell_type":"code",
         "execution_count":null,
         "metadata":{

         },
         "outputs":[

         ],
         "source":[
            "# Use shell to instanciate a Polygon for each row\n",
            "parks_pitchs_geometry = parks_pitchs_df['shell'].apply(shapely.geometry.Polygon)"
         ]
      },
      {
         "cell_type":"code",
         "execution_count":null,
         "metadata":{

         },
         "outputs":[

         ],
         "source":[
            "# Create a GeoDataFrame using the DataFrame and the calculated geometry\n",
            "parks_pitchs_gdf = gpd.GeoDataFrame(parks_pitchs_df, geometry=parks_pitchs_geometry)"
         ]
      },
      {
         "cell_type":"markdown",
         "metadata":{

         },
         "source":[
            "We need to process the polygon data, getting the centroid is a good approximation"
         ]
      },
      {
         "cell_type":"code",
         "execution_count":null,
         "metadata":{

         },
         "outputs":[

         ],
         "source":[
            "parks_pitchs_gdf.crs = 'EPSG:4326'\n",
            "parks_pitchs_gdf['area'] = parks_pitchs_gdf.to_crs(epsg=32718).geometry.area"
         ]
      },
      {
         "cell_type":"code",
         "execution_count":6,
         "metadata":{

         },
         "outputs":[

         ],
         "source":[
            "parks_pitchs_gdf['lat'] = parks_pitchs_gdf.geometry.centroid.y\n",
            "parks_pitchs_gdf['lon'] = parks_pitchs_gdf.geometry.centroid.x"
         ]
      },
      {
         "cell_type":"markdown",
         "metadata":{

         },
         "source":[
            "Construct the candidate set from Overpass POIs"
         ]
      },
      {
         "cell_type":"code",
         "execution_count":null,
         "metadata":{

         },
         "outputs":[

         ],
         "source":[
            "candidates = parks_pitchs_gdf[['id', 'lat', 'lon']]\n",
            "candidates = gpd.GeoDataFrame(candidates, geometry=gpd.points_from_xy(candidates['lon'], candidates['lat']))\n",
            "candidates.crs = 'EPSG:4326'"
         ]
      },
      {
         "cell_type":"code",
         "execution_count":9,
         "metadata":{

         },
         "outputs":[

         ],
         "source":[
            "candidates['aforo'] = candidates['area'] * 2"
         ]
      },
      {
         "cell_type":"code",
         "execution_count":10,
         "metadata":{

         },
         "outputs":[
            {
               "data":{
                  "text/html":[
                     "<div>\n",
                     "<style scoped>\n",
                     "    .dataframe tbody tr th:only-of-type {\n",
                     "        vertical-align: middle;\n",
                     "    }\n",
                     "\n",
                     "    .dataframe tbody tr th {\n",
                     "        vertical-align: top;\n",
                     "    }\n",
                     "\n",
                     "    .dataframe thead th {\n",
                     "        text-align: right;\n",
                     "    }\n",
                     "</style>\n",
                     "<table border=\"1\" class=\"dataframe\">\n",
                     "  <thead>\n",
                     "    <tr style=\"text-align: right;\">\n",
                     "      <th></th>\n",
                     "      <th>id</th>\n",
                     "      <th>lat</th>\n",
                     "      <th>lon</th>\n",
                     "      <th>area</th>\n",
                     "      <th>geometry</th>\n",
                     "      <th>aforo</th>\n",
                     "    </tr>\n",
                     "  </thead>\n",
                     "  <tbody>\n",
                     "    <tr>\n",
                     "      <th>0</th>\n",
                     "      <td>6129747658</td>\n",
                     "      <td>-11.878377</td>\n",
                     "      <td>-77.016364</td>\n",
                     "      <td>0.000000</td>\n",
                     "      <td>POINT (-77.01636 -11.87838)</td>\n",
                     "      <td>0.000000</td>\n",
                     "    </tr>\n",
                     "    <tr>\n",
                     "      <th>1</th>\n",
                     "      <td>67624202</td>\n",
                     "      <td>-11.985354</td>\n",
                     "      <td>-77.014213</td>\n",
                     "      <td>2841.493813</td>\n",
                     "      <td>POINT (-77.01421 -11.98535)</td>\n",
                     "      <td>5682.987625</td>\n",
                     "    </tr>\n",
                     "    <tr>\n",
                     "      <th>2</th>\n",
                     "      <td>67624203</td>\n",
                     "      <td>-11.985472</td>\n",
                     "      <td>-77.014529</td>\n",
                     "      <td>508.268924</td>\n",
                     "      <td>POINT (-77.01453 -11.98547)</td>\n",
                     "      <td>1016.537847</td>\n",
                     "    </tr>\n",
                     "    <tr>\n",
                     "      <th>3</th>\n",
                     "      <td>67624204</td>\n",
                     "      <td>-11.985367</td>\n",
                     "      <td>-77.014139</td>\n",
                     "      <td>11157.418332</td>\n",
                     "      <td>POINT (-77.01414 -11.98537)</td>\n",
                     "      <td>22314.836665</td>\n",
                     "    </tr>\n",
                     "    <tr>\n",
                     "      <th>4</th>\n",
                     "      <td>67626150</td>\n",
                     "      <td>-11.986800</td>\n",
                     "      <td>-77.010059</td>\n",
                     "      <td>553.973269</td>\n",
                     "      <td>POINT (-77.01006 -11.98680)</td>\n",
                     "      <td>1107.946537</td>\n",
                     "    </tr>\n",
                     "  </tbody>\n",
                     "</table>\n",
                     "</div>"
                  ],
                  "text/plain":[
                     "           id        lat        lon          area  \\\n",
                     "0  6129747658 -11.878377 -77.016364      0.000000   \n",
                     "1    67624202 -11.985354 -77.014213   2841.493813   \n",
                     "2    67624203 -11.985472 -77.014529    508.268924   \n",
                     "3    67624204 -11.985367 -77.014139  11157.418332   \n",
                     "4    67626150 -11.986800 -77.010059    553.973269   \n",
                     "\n",
                     "                      geometry         aforo  \n",
                     "0  POINT (-77.01636 -11.87838)      0.000000  \n",
                     "1  POINT (-77.01421 -11.98535)   5682.987625  \n",
                     "2  POINT (-77.01453 -11.98547)   1016.537847  \n",
                     "3  POINT (-77.01414 -11.98537)  22314.836665  \n",
                     "4  POINT (-77.01006 -11.98680)   1107.946537  "
                  ]
               },
               "execution_count":10,
               "metadata":{

               },
               "output_type":"execute_result"
            }
         ],
         "source":[
            "candidates.head()"
         ]
      },
      {
         "cell_type":"markdown",
         "metadata":{

         },
         "source":[
            "### Concatenating candidates with the national market census"
         ]
      },
      {
         "cell_type":"code",
         "execution_count":11,
         "metadata":{

         },
         "outputs":[

         ],
         "source":[
            "markets = pd.read_csv('input/market_db.csv')\n",
            "markets = gpd.GeoDataFrame(markets, geometry=gpd.points_from_xy(markets['longitude'], markets['latitude']))\n",
            "markets.crs = 'EPSG:4326'"
         ]
      },
      {
         "cell_type":"code",
         "execution_count":12,
         "metadata":{

         },
         "outputs":[

         ],
         "source":[
            "markets['aforo'] = markets.apply(\n",
            "    lambda row: row['Area construida']*2 if row['Tipo de mercado']=='Minorista' else row['Area construida']*5,\n",
            "    axis=1\n",
            ")"
         ]
      },
      {
         "cell_type":"code",
         "execution_count":13,
         "metadata":{

         },
         "outputs":[

         ],
         "source":[
            "merc = markets[markets.within(sjl.geometry[0])]"
         ]
      },
      {
         "cell_type":"code",
         "execution_count":14,
         "metadata":{

         },
         "outputs":[

         ],
         "source":[
            "merc = merc[['longitude', 'latitude', 'aforo']].reset_index()"
         ]
      },
      {
         "cell_type":"code",
         "execution_count":15,
         "metadata":{

         },
         "outputs":[

         ],
         "source":[
            "merc = gpd.GeoDataFrame(merc, geometry=gpd.points_from_xy(merc['longitude'], merc['latitude']))"
         ]
      },
      {
         "cell_type":"code",
         "execution_count":16,
         "metadata":{

         },
         "outputs":[

         ],
         "source":[
            "merc = merc.rename(columns={'index': 'id', 'longitude': 'lon', 'latitude': 'lat'})"
         ]
      },
      {
         "cell_type":"code",
         "execution_count":null,
         "metadata":{

         },
         "outputs":[

         ],
         "source":[
            "merc.shape"
         ]
      },
      {
         "cell_type":"code",
         "execution_count":18,
         "metadata":{

         },
         "outputs":[

         ],
         "source":[
            "markets = markets.loc[merc.id]"
         ]
      },
      {
         "cell_type":"code",
         "execution_count":19,
         "metadata":{

         },
         "outputs":[
            {
               "data":{
                  "text/plain":[
                     "ID                                            0\n",
                     "Codigo_Departamento                           0\n",
                     "DEPARTAMENTO                                  0\n",
                     "Codigo_Provincia                              0\n",
                     "PROVINCIA                                     0\n",
                     "                                             ..\n",
                     "Egresos por otros gastos especifico (2015)    0\n",
                     "P64_40                                        0\n",
                     "Total de Egresos (2015)                       1\n",
                     "geometry                                      0\n",
                     "aforo                                         0\n",
                     "Length: 365, dtype: int64"
                  ]
               },
               "execution_count":19,
               "metadata":{

               },
               "output_type":"execute_result"
            }
         ],
         "source":[
            "markets.isna().sum()"
         ]
      },
      {
         "cell_type":"code",
         "execution_count":20,
         "metadata":{

         },
         "outputs":[

         ],
         "source":[
            "candidates = candidates[['id', 'lat', 'lon', 'aforo', 'geometry']]"
         ]
      },
      {
         "cell_type":"code",
         "execution_count":null,
         "metadata":{

         },
         "outputs":[

         ],
         "source":[
            "candidates = gpd.GeoDataFrame(pd.concat([candidates, merc])).reset_index(drop=True)"
         ]
      },
      {
         "cell_type":"code",
         "execution_count":null,
         "metadata":{

         },
         "outputs":[

         ],
         "source":[
            "candidates.head()"
         ]
      },
      {
         "cell_type":"markdown",
         "metadata":{

         },
         "source":[
            "### Creating the demand an \"clients\" for the FLP"
         ]
      },
      {
         "cell_type":"markdown",
         "metadata":{

         },
         "source":[
            "Now, we need to estimate the total population moving to these markets. To achieve this we need to\n",
            "\n",
            "* Download HDX data\n",
            "* Filter it to our district\n",
            "* Convert it to hexagons"
         ]
      },
      {
         "cell_type":"code",
         "execution_count":null,
         "metadata":{
            "scrolled":true
         },
         "outputs":[

         ],
         "source":[
            "pop = up.download.hdx_dataset(\"4e74db39-87f1-4383-9255-eaf8ebceb0c9/resource/317f1c39-8417-4bde-a076-99bd37feefce/download/population_per_2018-10-01.csv.zip\")"
         ]
      },
      {
         "cell_type":"code",
         "execution_count":null,
         "metadata":{

         },
         "outputs":[

         ],
         "source":[
            "pop_sjl = up.geom.filter_population(pop, sjl)"
         ]
      },
      {
         "cell_type":"code",
         "execution_count":null,
         "metadata":{

         },
         "outputs":[

         ],
         "source":[
            "hex_sjl = up.geom.gen_hexagons(7, sjl)"
         ]
      },
      {
         "cell_type":"code",
         "execution_count":null,
         "metadata":{

         },
         "outputs":[

         ],
         "source":[
            "hex_sjl.plot()"
         ]
      },
      {
         "cell_type":"markdown",
         "metadata":{

         },
         "source":[
            "Merging both layers"
         ]
      },
      {
         "cell_type":"code",
         "execution_count":null,
         "metadata":{

         },
         "outputs":[

         ],
         "source":[
            "pop_sjl.isna().sum()"
         ]
      },
      {
         "cell_type":"code",
         "execution_count":null,
         "metadata":{

         },
         "outputs":[

         ],
         "source":[
            "hex_sjl.isna().sum()"
         ]
      },
      {
         "cell_type":"code",
         "execution_count":null,
         "metadata":{

         },
         "outputs":[

         ],
         "source":[
            "hex_sjl = up.geom.merge_shape_hex(\n",
            "    hex_sjl, \n",
            "    pop_sjl, \n",
            "    how='inner', \n",
            "    op='intersects', \n",
            "    agg={'population_2020': 'sum'}\n",
            ")"
         ]
      },
      {
         "cell_type":"code",
         "execution_count":null,
         "metadata":{

         },
         "outputs":[

         ],
         "source":[
            "hex_sjl.isna().sum()"
         ]
      },
      {
         "cell_type":"code",
         "execution_count":null,
         "metadata":{

         },
         "outputs":[

         ],
         "source":[
            "hex_sjl.fillna(0, inplace=True)"
         ]
      },
      {
         "cell_type":"code",
         "execution_count":null,
         "metadata":{

         },
         "outputs":[

         ],
         "source":[
            "hex_sjl.plot(column='population_2020', legend=True)"
         ]
      },
      {
         "cell_type":"markdown",
         "metadata":{

         },
         "source":[
            "## Distance matrix calculation"
         ]
      },
      {
         "cell_type":"markdown",
         "metadata":{

         },
         "source":[
            "To estimate the cost for our FLP, we will use walking travel time. For this we need to\n",
            "\n",
            "* Setup the OSRM server\n",
            "* Get the distance matrix\n",
            "* Shutdown the server"
         ]
      },
      {
         "cell_type":"code",
         "execution_count":42,
         "metadata":{

         },
         "outputs":[

         ],
         "source":[
            "up.routing.start_osrm_server('peru')"
         ]
      },
      {
         "cell_type":"markdown",
         "metadata":{

         },
         "source":[
            "To compute_osrm_dist_matrix we need Point geometry (We are going to use each hexagon centroid)"
         ]
      },
      {
         "cell_type":"code",
         "execution_count":null,
         "metadata":{

         },
         "outputs":[

         ],
         "source":[
            "hex_sjl_centroids = hex_sjl.copy() # Copy original gdf\n",
            "hex_sjl_centroids.geometry = hex_sjl_centroids.geometry.centroid # Replace Polygon for Point/Polygon Centroid"            "candidates = candidates[candidates['aforo'] >= 500]"
         ]
      },
      {
         "cell_type":"code",
         "execution_count":39,
         "metadata":{

         },
         "outputs":[

         ],
         "source":[
            "up.routing.setup_osrm_server('peru', True)"
         ]
      },
      {
         "cell_type":"code",
         "execution_count":40,
         "metadata":{

         },
         "outputs":[
            {
               "name":"stdout",
               "output_type":"stream",
               "text":[
                  "160 1333\n"
               ]
            }
         ],
         "source":[
            "print(hex_sjl_centroids.shape[0], candidates.shape[0])"
         ]
      },
      {
         "cell_type":"code",
         "execution_count":42,
         "metadata":{
            "scrolled":false
         },
         "outputs":[
            {
               "name":"stderr",
               "output_type":"stream",
               "text":[
                  "160it [29:31, 11.07s/it]\n"
               ]
            }
         ],
         "source":[
            "distance, duration = up.routing.compute_osrm_dist_matrix(hex_sjl_centroids, candidates, 'walking')"
         ]
      },
      {
         "cell_type":"code",
         "execution_count":43,
         "metadata":{

         },
         "outputs":[

         ],
         "source":[
            "up.routing.stop_osrm_server()"
         ]
      },
      {
         "cell_type":"code",
         "execution_count":44,
         "metadata":{

         },
         "outputs":[

         ],
         "source":[
            "cost_mat = duration.T"
         ]
      },
      {
         "cell_type":"markdown",
         "metadata":{

         },
         "source":[
            "### Constructing PuLP sets and variables"
         ]
      },
      {
         "cell_type":"markdown",
         "metadata":{

         },
         "source":[
            "Set an the number of facilities to be activated"
         ]
      },
      {
         "cell_type":"code",
         "execution_count":34,
         "metadata":{

         },
         "outputs":[

         ],
         "source":[
            "p = merc.shape[0]+12"
         ]
      },
      {
         "cell_type":"code",
         "execution_count":35,
         "metadata":{

         },
         "outputs":[
            {
               "data":{
                  "text/plain":[
                     "135"
                  ]
               },
               "execution_count":35,
               "metadata":{

               },
               "output_type":"execute_result"
            }
         ],
         "source":[
            "p"
         ]
      },
      {
         "cell_type":"markdown",
         "metadata":{

         },
         "source":[
            "Build the facility and customer set as lists, as per PuLP requirements"
         ]
      },
      {
         "cell_type":"code",
         "execution_count":43,
         "metadata":{

         },
         "outputs":[

         ],
         "source":[
            "candidates = candidates.reset_index(drop=True)"
         ]
      },
      {
         "cell_type":"code",
         "execution_count":44,
         "metadata":{

         },
         "outputs":[

         ],
         "source":[
            "customers = list(hex_sjl_centroids.index)\n",
            "facilities = [f'FAC_{i}' for i in candidates.index]"
         ]
      },
      {
         "cell_type":"markdown",
         "metadata":{

         },
         "source":[
            "Now we create dictionaries for the demand and cost, associating each customer (hexagon) to the demand (population) and each facility (park/pitch) the respective cost (travel time) to each customer "
         ]
      },
      {
         "cell_type":"code",
         "execution_count":45,
         "metadata":{

         },
         "outputs":[

         ],
         "source":[
            "cost_mat = np.load('output/distance_matrix.npy')"
         ]
      },
      {
         "cell_type":"code",
         "execution_count":48,
         "metadata":{

         },
         "outputs":[

         ],
         "source":[
            "cost_mat = cost_mat.T"
         ]
      },
      {
         "cell_type":"code",
         "execution_count":49,
         "metadata":{

         },
         "outputs":[

         ],
         "source":[
            "demand = {i: hex_sjl.loc[i, 'population_2020'] for i in hex_sjl.index}"
         ]
      },
      {
         "cell_type":"code",
         "execution_count":null,
         "metadata":{

         },
         "outputs":[

         ],
         "source":[
            "cost_dict = {facilities[i]: {customers[j]: cost_mat[i][j] for j in hex_sjl.index} for i in candidates.index}"
         ]
      },
      {
         "cell_type":"code",
         "execution_count":null,
         "metadata":{

         },
         "outputs":[

         ],
         "source":[
            "merc.id"
         ]
      },
      {
         "cell_type":"code",
         "execution_count":null,
         "metadata":{

         },
         "outputs":[

         ],
         "source":[
            "capacity = {facilities[i]: markets.loc[i, 'aforo'] for i in merc.id}"
         ]
      },
      {
         "cell_type":"markdown",
         "metadata":{

         },
         "source":[
            "Create problem variable for PuLP"
         ]
      },
      {
         "cell_type":"code",
         "execution_count":51,
         "metadata":{

         },
         "outputs":[

         ],
         "source":[
            "prob = LpProblem('FLP_Markets_SJL', LpMinimize)"
         ]
      },
      {
         "cell_type":"markdown",
         "metadata":{

         },
         "source":[
            "We create the decision variable $x_{ij}$, representing the percentage of service assigned from a facility to a customer, setting 0 as the lower bound"
         ]
      },
      {
         "cell_type":"code",
         "execution_count":52,
         "metadata":{

         },
         "outputs":[

         ],
         "source":[
            "x = LpVariable.dicts('Service', \n",
            "                    [(i,j) for j in customers for i in facilities],\n",
            "                    0)"
         ]
      },
      {
         "cell_type":"markdown",
         "metadata":{

         },
         "source":[
            "Now we create the decision variable to activate a facility $y_i$"
         ]
      },
      {
         "cell_type":"code",
         "execution_count":53,
         "metadata":{

         },
         "outputs":[

         ],
         "source":[
            "y = LpVariable.dicts('Activation',\n",
            "                     facilities,\n",
            "                     0,1, LpBinary)"
         ]
      },
      {
         "cell_type":"markdown",
         "metadata":{

         },
         "source":[
            "Setting the objective function $$ \\sum_{i=1}^{n} \\sum_{j=1}^{m} d_{j} c_{ij} x_{ij} $$"
         ]
      },
      {
         "cell_type":"code",
         "execution_count":54,
         "metadata":{

         },
         "outputs":[

         ],
         "source":[
            "prob += lpSum(lpSum(demand[j]*cost_dict[i][j]*x[i,j] for i in facilities) for j in customers)"
         ]
      },
      {
         "cell_type":"markdown",
         "metadata":{

         },
         "source":[
            "We add the first constraint $$ \\sum_{i=1}^{n} x_{ij} = 1 \\quad \\forall j \\in \\text{Customers}$$"
         ]
      },
      {
         "cell_type":"code",
         "execution_count":55,
         "metadata":{

         },
         "outputs":[

         ],
         "source":[
            "for j in customers:\n",
            "    prob += lpSum(x[i,j] for i in facilities) == 1"
         ]
      },
      {
         "cell_type":"markdown",
         "metadata":{

         },
         "source":[
            "Adding the second constraint $$ \\sum_{i=1}^{n} y_{i} = p $$"
         ]
      },
      {
         "cell_type":"code",
         "execution_count":56,
         "metadata":{

         },
         "outputs":[

         ],
         "source":[
            "prob += lpSum(y[i] for i in facilities) == p"
         ]
      },
      {
         "cell_type":"markdown",
         "metadata":{

         },
         "source":[
            "Third constraint $$ x_{i,j} ≤ y_{i} \\quad \\forall i \\in \\text{Facilities} \\quad \\forall j \\in \\text{Customers}$$"
         ]
      },
      {
         "cell_type":"code",
         "execution_count":57,
         "metadata":{

         },
         "outputs":[

         ],
         "source":[
            "for i in facilities:\n",
            "    for j in customers:\n",
            "        prob += x[i,j] <= y[i]"
         ]
      },
      {
         "cell_type":"markdown",
         "metadata":{

         },
         "source":[
            "We need to keep the markets active, focusing on activating only additional facilities (avoid selecting already active markets)"
         ]
      },
      {
         "cell_type":"code",
         "execution_count":58,
         "metadata":{

         },
         "outputs":[
            {
               "data":{
                  "text/plain":[
                     "(123, 5)"
                  ]
               },
               "execution_count":58,
               "metadata":{

               },
               "output_type":"execute_result"
            }
         ],
         "source":[
            "merc.shape"
         ]
      },
      {
         "cell_type":"code",
         "execution_count":123,
         "metadata":{
            "scrolled":true
         },
         "outputs":[

         ],
         "source":[
            "for i in facilities[1231:]:\n",
            "    prob += y[i] == 1"
         ]
      },
      {
         "cell_type":"markdown",
         "metadata":{

         },
         "source":[
            "Finally, as to maintain proper social distancing, we set a capacity constraint $$ \\sum_{j=1}^{m} x_{ij} ≤ c_{i} \\quad \\forall i \\in \\text{Facilities}$$"
         ]
      },
      {
         "cell_type":"code",
         "execution_count":73,
         "metadata":{

         },
         "outputs":[

         ],
         "source":[
            "for i in capacity:\n",
            "    prob += lpSum(x[i,j] for j in customers) <= capacity[i]"
         ]
      },
      {
         "cell_type":"markdown",
         "metadata":{

         },
         "source":[
            "Solve (a custom solver may be added in the solve method)"
         ]
      },
      {
         "cell_type":"code",
         "execution_count":74,
         "metadata":{

         },
         "outputs":[
            {
               "data":{
                  "text/plain":[
                     "1"
                  ]
               },
               "execution_count":74,
               "metadata":{

               },
               "output_type":"execute_result"
            }
         ],
         "source":[
            "prob.solve()"
         ]
      },
      {
         "cell_type":"markdown",
         "metadata":{

         },
         "source":[
            "Check solution status"
         ]
      },
      {
         "cell_type":"code",
         "execution_count":75,
         "metadata":{

         },
         "outputs":[
            {
               "name":"stdout",
               "output_type":"stream",
               "text":[
                  "Status: Optimal\n"
               ]
            }
         ],
         "source":[
            "print(\"Status:\", LpStatus[prob.status])"
         ]
      },
      {
         "cell_type":"markdown",
         "metadata":{

         },
         "source":[
            "Obtain the demand assignments"
         ]
      },
      {
         "cell_type":"code",
         "execution_count":108,
         "metadata":{

         },
         "outputs":[

         ],
         "source":[
            "x_vars = [[0 for j in range(len(customers))] for i in range(len(facilities))]\n",
            "\n",
            "for v in prob.variables():\n",
            "    if 'Activation' not in v.name:\n",
            "        i, j = re.findall('\\d+', v.name)\n",
            "        x_vars[int(i)][int(j)] = v.varValue"
         ]
      },
      {
         "cell_type":"code",
         "execution_count":109,
         "metadata":{

         },
         "outputs":[

         ],
         "source":[
            "y_vars = np.zeros_like(facilities)\n",
            "\n",
            "for v in prob.variables():\n",
            "    if 'Activation' in v.name:\n",
            "        ix = int(re.findall('\\d+', v.name)[0])\n",
            "        y_vars[ix] = v.varValue\n",
            "\n",
            "y_vars = y_vars.astype(float)"
         ]
      },
      {
         "cell_type":"code",
         "execution_count":110,
         "metadata":{

         },
         "outputs":[

         ],
         "source":[
            "x_vars, y_vars = np.array(x_vars), np.array(y_vars)"
         ]
      },
      {
         "cell_type":"code",
         "execution_count":111,
         "metadata":{

         },
         "outputs":[

         ],
         "source":[
            "np.save('output/assignments.npy', x_vars)\n",
            "np.save('output/facilities.npy', y_vars)"
         ]
      },
      {
         "cell_type":"code",
         "execution_count":112,
         "metadata":{

         },
         "outputs":[

         ],
         "source":[
            "y_vars = np.load('output/facilities.npy')"
         ]
      },
      {
         "cell_type":"code",
         "execution_count":113,
         "metadata":{

         },
         "outputs":[

         ],
         "source":[
            "candidates['is_active'] = y_vars"
         ]
      },
      {
         "cell_type":"code",
         "execution_count":114,
         "metadata":{

         },
         "outputs":[

         ],
         "source":[
            "candidates['is_market'] = 0"
         ]
      },
      {
         "cell_type":"code",
         "execution_count":115,
         "metadata":{

         },
         "outputs":[

         ],
         "source":[
            "candidates.reset_index(drop=True, inplace=True)"
         ]
      },
      {
         "cell_type":"code",
         "execution_count":116,
         "metadata":{

         },
         "outputs":[

         ],
         "source":[
            "candidates.loc[1231:, 'is_market'] = 1"
         ]
      },
      {
         "cell_type":"code",
         "execution_count":120,
         "metadata":{

         },
         "outputs":[
            {
               "data":{
                  "text/plain":[
                     "(33, 7)"
                  ]
               },
               "execution_count":120,
               "metadata":{

               },
               "output_type":"execute_result"
            }
         ],
         "source":[
            "candidates[(candidates['is_active'] == 1) & (candidates['is_market'] == 0)].shape"
         ]
      },
      {
         "cell_type":"code",
         "execution_count":122,
         "metadata":{

         },
         "outputs":[

         ],
         "source":[
            "candidates.to_file('facilities')"
         ]
      }
   ],
   "metadata":{
      "kernelspec":{
         "display_name":"Python 3",
         "language":"python",
         "name":"python3"
      },
      "language_info":{
         "codemirror_mode":{
            "name":"ipython",
            "version":3
         },
         "file_extension":".py",
         "mimetype":"text/x-python",
         "name":"python",
         "nbconvert_exporter":"python",
         "pygments_lexer":"ipython3",
         "version":"3.7.4"
      }
   },
   "nbformat":4,
   "nbformat_minor":2
}
