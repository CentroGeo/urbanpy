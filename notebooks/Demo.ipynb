{
 "cells": [
  {
   "cell_type": "markdown",
   "metadata": {},
   "source": [
    "# Download and visualize urban data"
   ]
  },
  {
   "cell_type": "code",
   "execution_count": null,
   "metadata": {},
   "outputs": [],
   "source": [
    "import sys\n",
    "sys.path.append('..')\n",
    "import urbanpy as up\n",
    "\n",
    "import geopandas as gpd\n",
    "import matplotlib.pyplot as plt\n",
    "import pandas as pd\n",
    "import plotly.express as px\n",
    "from tqdm.auto import tqdm"
   ]
  },
  {
   "cell_type": "code",
   "execution_count": null,
   "metadata": {},
   "outputs": [],
   "source": [
    "tqdm.pandas()"
   ]
  },
  {
   "cell_type": "markdown",
   "metadata": {},
   "source": [
    "## Downloading data for different cities and plotting"
   ]
  },
  {
   "cell_type": "code",
   "execution_count": null,
   "metadata": {},
   "outputs": [],
   "source": [
    "ba = up.download.nominatim_osm('Buenos Aires, Argentina') # expected_position is 0 by default\n",
    "quito = up.download.nominatim_osm('Quito, Ecuador', 1) # second result\n",
    "lima = up.download.nominatim_osm('Lima, Peru', 2) # third result"
   ]
  },
  {
   "cell_type": "code",
   "execution_count": null,
   "metadata": {},
   "outputs": [],
   "source": [
    "lima.plot()\n",
    "plt.xlabel('lon')\n",
    "plt.ylabel('lat')\n",
    "plt.title('Lima')\n",
    "plt.show()\n",
    "\n",
    "quito.plot()\n",
    "plt.xlabel('lon')\n",
    "plt.ylabel('lat')\n",
    "plt.title('Quito')\n",
    "plt.show()\n",
    "\n",
    "ba.plot()\n",
    "plt.xlabel('lon')\n",
    "plt.ylabel('lat')\n",
    "plt.title('Buenos Aires')\n",
    "plt.show()"
   ]
  },
  {
   "cell_type": "markdown",
   "metadata": {},
   "source": [
    "Lima is still missing the Callao polygon, lets download it as well"
   ]
  },
  {
   "cell_type": "code",
   "execution_count": null,
   "metadata": {},
   "outputs": [],
   "source": [
    "callao = up.download.nominatim_osm('Callao, Peru', 1)"
   ]
  },
  {
   "cell_type": "markdown",
   "metadata": {},
   "source": [
    "### Merging layers"
   ]
  },
  {
   "cell_type": "code",
   "execution_count": null,
   "metadata": {},
   "outputs": [],
   "source": [
    "lima = up.geom.merge_geom_downloads([lima, callao])"
   ]
  },
  {
   "cell_type": "markdown",
   "metadata": {},
   "source": [
    "### Downloading population data"
   ]
  },
  {
   "cell_type": "code",
   "execution_count": null,
   "metadata": {
    "scrolled": false
   },
   "outputs": [],
   "source": [
    "pop_per = up.download.hdx_dataset(\"4e74db39-87f1-4383-9255-eaf8ebceb0c9/resource/317f1c39-8417-4bde-a076-99bd37feefce/download/population_per_2018-10-01.csv.zip\")\n",
    "pop_ecu = up.download.hdx_dataset('58c3ac3f-febd-4222-8969-59c0fe0e7a0d/resource/c05a3c81-a78c-4e6c-ac05-de1316d4ba12/download/population_ecu_2018-10-01.csv.zip')\n",
    "pop_arg = up.download.hdx_dataset('6cf49080-1226-4eda-8700-a0093cbdfe4d/resource/5737d87f-e17f-4c82-b1bd-d589ed631318/download/population_arg_2018-10-01.csv.zip')"
   ]
  },
  {
   "cell_type": "code",
   "execution_count": null,
   "metadata": {},
   "outputs": [],
   "source": [
    "pop_per.head()"
   ]
  },
  {
   "cell_type": "markdown",
   "metadata": {},
   "source": [
    "### Conversion to Point geometries and hexagons"
   ]
  },
  {
   "cell_type": "markdown",
   "metadata": {},
   "source": [
    "We got the lat lon coordinates but their are just in numerical format, we need them as geometries to perform spatial operations on the hexagon grid"
   ]
  },
  {
   "cell_type": "markdown",
   "metadata": {},
   "source": [
    "First, lets filter the national population to our city bounds"
   ]
  },
  {
   "cell_type": "code",
   "execution_count": null,
   "metadata": {},
   "outputs": [],
   "source": [
    "pop_lima = up.geom.filter_population(pop_per, lima)\n",
    "pop_quito = up.geom.filter_population(pop_ecu, quito)\n",
    "pop_ba = up.geom.filter_population(pop_arg, ba)"
   ]
  },
  {
   "cell_type": "markdown",
   "metadata": {},
   "source": [
    "Applying filter_population gives us the set of points within our city's bounds and a Point geometry to work with hexagons"
   ]
  },
  {
   "cell_type": "code",
   "execution_count": null,
   "metadata": {},
   "outputs": [],
   "source": [
    "pop_lima.head()"
   ]
  },
  {
   "cell_type": "markdown",
   "metadata": {},
   "source": [
    "### Removing unnecesary features"
   ]
  },
  {
   "cell_type": "markdown",
   "metadata": {},
   "source": [
    "We don't need the San Lorenzo island. By providing a bounding box we an remove it"
   ]
  },
  {
   "cell_type": "code",
   "execution_count": null,
   "metadata": {},
   "outputs": [],
   "source": [
    "pop_lima = up.geom.remove_features(pop_lima, [-12.2,-12, -77.3,-77.17])"
   ]
  },
  {
   "cell_type": "markdown",
   "metadata": {},
   "source": [
    "Let's generate the hexagon grid using Uber's H3"
   ]
  },
  {
   "cell_type": "code",
   "execution_count": null,
   "metadata": {},
   "outputs": [],
   "source": [
    "hex_lima = up.geom.gen_hexagons(8, lima)\n",
    "hex_quito = up.geom.gen_hexagons(10, quito)\n",
    "hex_ba = up.geom.gen_hexagons(9, ba)"
   ]
  },
  {
   "cell_type": "markdown",
   "metadata": {},
   "source": [
    "Notice the effect of the resolution parameter (higher resolution values generate smaller hexagons)"
   ]
  },
  {
   "cell_type": "code",
   "execution_count": null,
   "metadata": {},
   "outputs": [],
   "source": [
    "print(hex_lima.shape)\n",
    "print(hex_quito.shape)\n",
    "print(hex_ba.shape)"
   ]
  },
  {
   "cell_type": "markdown",
   "metadata": {},
   "source": [
    "### Merging a layer"
   ]
  },
  {
   "cell_type": "markdown",
   "metadata": {},
   "source": [
    "We got both the population point geometries and hexagons, lets get the population per hexagon"
   ]
  },
  {
   "cell_type": "code",
   "execution_count": null,
   "metadata": {},
   "outputs": [],
   "source": [
    "hex_lima = up.geom.merge_shape_hex(hex_lima, \n",
    "                   pop_lima, \n",
    "                   how='inner', \n",
    "                   op='intersects', \n",
    "                   agg={'population_2020': 'sum', 'population_2015':'mean'})\n",
    "\n",
    "hex_quito = up.geom.merge_shape_hex(hex_quito, \n",
    "                   pop_quito, \n",
    "                   how='inner', \n",
    "                   op='intersects', \n",
    "                   agg={'population_2020': 'sum', 'population_2015':'mean'})\n",
    "\n",
    "hex_ba = up.geom.merge_shape_hex(hex_ba, \n",
    "                   pop_ba, \n",
    "                   how='inner', \n",
    "                   op='intersects', \n",
    "                   agg={'population_2020': 'sum', 'population_2015':'mean'})"
   ]
  },
  {
   "cell_type": "markdown",
   "metadata": {},
   "source": [
    "We've used an inner join to keep only the points that intersect a hexagon (in this case, a within operation gives similar results). We provide a dictionary detailing how to aggregate our fields of interest <br>\n",
    "\n",
    "Let's visualize the maps"
   ]
  },
  {
   "cell_type": "code",
   "execution_count": null,
   "metadata": {},
   "outputs": [],
   "source": [
    "hex_lima.plot(column='population_2020', legend=True, cmap='viridis', figsize=(10,5), missing_kwds={'color':'grey'})\n",
    "plt.xlabel('lon')\n",
    "plt.ylabel('lat')\n",
    "plt.title('Lima')\n",
    "plt.show()\n",
    "\n",
    "hex_quito.plot(column='population_2020', legend=True, cmap='viridis', figsize=(10,5), missing_kwds={'color':'grey'})\n",
    "plt.xlabel('lon')\n",
    "plt.ylabel('lat')\n",
    "plt.title('Quito')\n",
    "plt.show()\n",
    "\n",
    "hex_ba.plot(column='population_2020', legend=True, cmap='viridis', figsize=(10,5), missing_kwds={'color':'grey'})\n",
    "plt.xlabel('lon')\n",
    "plt.ylabel('lat')\n",
    "plt.title('Buenos Aires')\n",
    "plt.show()"
   ]
  },
  {
   "cell_type": "markdown",
   "metadata": {},
   "source": [
    "## Calculate trip distance and duration from each hexagon to the closest food facility"
   ]
  },
  {
   "cell_type": "code",
   "execution_count": null,
   "metadata": {},
   "outputs": [],
   "source": [
    "hex_lima['lat'] = hex_lima.geometry.centroid.y\n",
    "hex_lima['lon'] = hex_lima.geometry.centroid.x"
   ]
  },
  {
   "cell_type": "code",
   "execution_count": null,
   "metadata": {},
   "outputs": [],
   "source": [
    "fs = up.download.overpass_pois(bounds=lima.total_bounds, facilities='food')"
   ]
  },
  {
   "cell_type": "code",
   "execution_count": null,
   "metadata": {},
   "outputs": [],
   "source": [
    "fs.plot()"
   ]
  },
  {
   "cell_type": "markdown",
   "metadata": {},
   "source": [
    "Neighborhood search to find closest food facility"
   ]
  },
  {
   "cell_type": "code",
   "execution_count": null,
   "metadata": {},
   "outputs": [],
   "source": [
    "dist_up, ind_up = up.utils.nn_search(\n",
    "    tree_features=fs[['lat', 'lon']].values,\n",
    "    query_features=hex_lima[['lat', 'lon']].values,\n",
    "    metric='haversine'\n",
    ")"
   ]
  },
  {
   "cell_type": "code",
   "execution_count": null,
   "metadata": {},
   "outputs": [],
   "source": [
    "hex_lima['nearest_food_facility_ix'] = ind_up"
   ]
  },
  {
   "cell_type": "markdown",
   "metadata": {},
   "source": [
    "Use OSRM routing server to find walking distance and duration "
   ]
  },
  {
   "cell_type": "code",
   "execution_count": null,
   "metadata": {},
   "outputs": [],
   "source": [
    "# start server\n",
    "up.routing.start_osrm_server('peru')"
   ]
  },
  {
   "cell_type": "code",
   "execution_count": null,
   "metadata": {
    "scrolled": true
   },
   "outputs": [],
   "source": [
    "# Distancia y duración del viaje a pie\n",
    "hex_lima[['dist_nn_ff_walk', 'dur_nn_ff_walk']] = hex_lima.progress_apply(\n",
    "    lambda row: up.routing.osrm_route(\n",
    "        origin=row.geometry.centroid, \n",
    "        destination = fs.iloc[row['nearest_food_facility_ix']]['geometry'],\n",
    "        profile = 'walking'\n",
    "    ),\n",
    "    result_type='expand',\n",
    "    axis=1,\n",
    ")"
   ]
  },
  {
   "cell_type": "code",
   "execution_count": null,
   "metadata": {},
   "outputs": [],
   "source": [
    "hex_lima['dist_nn_ff_walk'] =  hex_lima['dist_nn_ff_walk'] / 1000 # meters to km\n",
    "hex_lima['dur_nn_ff_walk'] =  hex_lima['dur_nn_ff_walk'] / 60 # seconds to minutes"
   ]
  },
  {
   "cell_type": "code",
   "execution_count": null,
   "metadata": {},
   "outputs": [],
   "source": [
    "up.routing.stop_osrm_server()"
   ]
  },
  {
   "cell_type": "markdown",
   "metadata": {},
   "source": [
    "## Generate interactive maps"
   ]
  },
  {
   "cell_type": "code",
   "execution_count": null,
   "metadata": {},
   "outputs": [],
   "source": [
    "map_figure = up.plotting.choropleth_map(hex_lima, 'population_2020', title='Estimated Population - 2020')"
   ]
  },
  {
   "cell_type": "markdown",
   "metadata": {},
   "source": [
    "Binarize durations to improve map visualization "
   ]
  },
  {
   "cell_type": "code",
   "execution_count": null,
   "metadata": {},
   "outputs": [],
   "source": [
    "custom_bins, custom_labels = up.utils.create_duration_labels(hex_lima['dur_nn_ff_walk'])"
   ]
  },
  {
   "cell_type": "code",
   "execution_count": null,
   "metadata": {},
   "outputs": [],
   "source": [
    "hex_lima['dur_nn_ff_walk_bins'] = pd.cut(hex_lima['dur_nn_ff_walk'], bins=custom_bins, labels=custom_labels)"
   ]
  },
  {
   "cell_type": "markdown",
   "metadata": {},
   "source": [
    "You can customize your plot usign the same plotly.express.choropletmap parameters"
   ]
  },
  {
   "cell_type": "code",
   "execution_count": null,
   "metadata": {},
   "outputs": [],
   "source": [
    "map_figure = up.plotting.choropleth_map(\n",
    "    hex_lima, 'dur_nn_ff_walk_bins',\n",
    "    title='Acceso a instalaciones de venta de alimento',\n",
    "    color_discrete_sequence=px.colors.sequential.Plasma_r, \n",
    "    category_orders={'dur_nn_ff_walk_bins': custom_labels}, \n",
    "    labels={\"dur_nn_ff_walk_bins\": \"Duración (en minutos)\"}\n",
    ")"
   ]
  },
  {
   "cell_type": "code",
   "execution_count": null,
   "metadata": {},
   "outputs": [],
   "source": []
  }
 ],
 "metadata": {
  "kernelspec": {
   "display_name": "Python 3 (urbanpy)",
   "language": "python",
   "name": "urbanpy-env"
  },
  "language_info": {
   "codemirror_mode": {
    "name": "ipython",
    "version": 3
   },
   "file_extension": ".py",
   "mimetype": "text/x-python",
   "name": "python",
   "nbconvert_exporter": "python",
   "pygments_lexer": "ipython3",
   "version": "3.7.3"
  }
 },
 "nbformat": 4,
 "nbformat_minor": 2
}
